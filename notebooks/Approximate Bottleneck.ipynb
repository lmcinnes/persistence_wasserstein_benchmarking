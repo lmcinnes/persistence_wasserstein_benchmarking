{
 "cells": [
  {
   "cell_type": "markdown",
   "metadata": {},
   "source": [
    "# Approximate Bottleneck Distance"
   ]
  },
  {
   "cell_type": "code",
   "execution_count": 1,
   "metadata": {},
   "outputs": [],
   "source": [
    "import numpy as np\n",
    "import scipy.linalg\n",
    "import scipy.stats\n",
    "import sklearn.metrics\n",
    "from sklearn.cluster import KMeans\n",
    "import numba\n",
    "import matplotlib.pyplot as plt\n",
    "import ot\n",
    "import umap\n",
    "import seaborn as sns"
   ]
  },
  {
   "cell_type": "markdown",
   "metadata": {},
   "source": [
    "## Adding more example diagrams\n"
   ]
  },
  {
   "cell_type": "code",
   "execution_count": 2,
   "metadata": {},
   "outputs": [],
   "source": [
    "from teaspoon.MakeData.PointCloud import testSetManifolds \n",
    "from teaspoon.TDA.Distance import dgmDist_Hera"
   ]
  },
  {
   "cell_type": "markdown",
   "metadata": {},
   "source": [
    "Were are going to generate 50 small examples from each of the 6 classes"
   ]
  },
  {
   "cell_type": "code",
   "execution_count": 3,
   "metadata": {},
   "outputs": [
    {
     "name": "stdout",
     "output_type": "stream",
     "text": [
      "Generating torus clouds...\n",
      "Generating annuli clouds...\n",
      "Generating cube clouds...\n",
      "Generating three cluster clouds...\n",
      "Generating three clusters of three clusters clouds...\n",
      "Generating sphere clouds...\n",
      "Finished generating clouds and computing persistence.\n",
      "\n",
      "CPU times: user 59.4 s, sys: 503 ms, total: 59.9 s\n",
      "Wall time: 15.1 s\n"
     ]
    }
   ],
   "source": [
    "%%time\n",
    "manifoldData = testSetManifolds(numDgms = 30, numPts = 300, permute = False, seed = 0)"
   ]
  },
  {
   "cell_type": "code",
   "execution_count": 4,
   "metadata": {},
   "outputs": [],
   "source": [
    "# We are just going to consider the 1-dimension persistence \n",
    "\n",
    "# In birth-death\n",
    "JustDgms_death = list(manifoldData['Dgm1'])\n",
    "# In birth-lifetime\n",
    "JustDgms_lifetime = [np.concatenate([[X[:,0]],[X[:,1]-X[:,0]]], axis = 0).T for X in JustDgms_death]"
   ]
  },
  {
   "cell_type": "markdown",
   "metadata": {},
   "source": [
    "Here is the wasserstein code... there is a hack in here than needs to be fixed where we use sklean all-pairs distance function which is only doing L_2 distance at the moment and so we are not correctly doing L_p distance in our calculations... we need to fix this in the main code base.  Unfortunely, there is no sklearn L_p norms for other $p \\ne 1,2,\\infty$ so we'll need to write something if we want to do that correctly. \n"
   ]
  },
  {
   "cell_type": "code",
   "execution_count": 5,
   "metadata": {},
   "outputs": [],
   "source": [
    "def wasserstein_diagram_distance(p, pts0, pts1, y_axis='death'):\n",
    "    '''\n",
    "    Compute the Persistant p-Wasserstein distance between the diagrams pts0, pts1\n",
    "    \n",
    "    y_axis = 'death' (default), or 'lifetime'\n",
    "    \n",
    "    '''\n",
    "    \n",
    "    if y_axis == 'lifetime':\n",
    "        extra_dist0 = pts0[:, 1]\n",
    "        extra_dist1 = pts1[:, 1]\n",
    "    elif y_axis == 'death':    \n",
    "        extra_dist0 = (pts0[:, 1]-pts0[:, 0])/np.sqrt(2)\n",
    "        extra_dist1 = (pts1[:, 1]-pts1[:, 0])/np.sqrt(2)\n",
    "    else:\n",
    "        raise ValueError('y_axis must be \\'death\\' or \\'lifetime\\'')\n",
    "        \n",
    "    pairwise_dist = sklearn.metrics.pairwise_distances(pts0, pts1)\n",
    "    \n",
    "    all_pairs_ground_distance_a = np.hstack([pairwise_dist, extra_dist0[:, np.newaxis]])\n",
    "    extra_row = np.zeros(all_pairs_ground_distance_a.shape[1])\n",
    "    extra_row[:pairwise_dist.shape[1]] = extra_dist1\n",
    "    all_pairs_ground_distance_a = np.vstack([all_pairs_ground_distance_a, extra_row])\n",
    "  \n",
    "    all_pairs_ground_distance_a = all_pairs_ground_distance_a**p\n",
    "    \n",
    "    n0 = pts0.shape[0]\n",
    "    n1 = pts1.shape[0]\n",
    "    a = np.ones(n0+1)\n",
    "    a[n0]=n1\n",
    "    a = a/a.sum()\n",
    "    b = np.ones(n1+1)\n",
    "    b[n1]=n0\n",
    "    b = b/b.sum()\n",
    "    \n",
    "    return np.power((n0+n1)*ot.emd2(a, b, all_pairs_ground_distance_a),1.0/p)\n"
   ]
  },
  {
   "cell_type": "markdown",
   "metadata": {},
   "source": [
    "### Modifications to do approximate bottleneck\n",
    "\n",
    "Here we swich the metric to 'chebychev' which is $L_\\infty$.  Also, the transport cost we want to return is the max cost to move any element given the transport plan - not the total cost.  Ideally if this was always a matching this would be the highest cost of an entry in this matrix but there could be mass splitting in the retruned solution in theory so we sum up the total cost to move each element and then take the max of that to fix that issue.   \n",
    "\n",
    "Now, the optimal transport code is going to minimize total transport cost not the maximal transport cost, but in theory we can now take advantage of the limit and just raise all of the transport costs to the p-th power and find the optimal transport of that, which will basically be forced to minimize the maximal cost as a result.  Using this plan we compute the max cost under the original $L_\\infty$ cost matrix without the p-th powers and take the max row sum / col sum of that. \n",
    "\n",
    "Lasty, because we are grouping all of the points at infinity together we actually only want to find the maximal cost of moving one of the real points in one of the diagrams (which will be equal if they move to eachother), so we have to take some care to remove the infinite points (the last row/columns) when we are looking for the most costly move. "
   ]
  },
  {
   "cell_type": "code",
   "execution_count": 6,
   "metadata": {},
   "outputs": [],
   "source": [
    "def bottleneck_diagram_distance(p, pts0, pts1, y_axis='death'):\n",
    "    '''\n",
    "    Compute the Persistant p-Wasserstein distance between the diagrams pts0, pts1\n",
    "    \n",
    "    y_axis = 'death' (default), or 'lifetime'\n",
    "    \n",
    "    '''\n",
    "    \n",
    "    if y_axis == 'lifetime':\n",
    "        extra_dist0 = pts0[:, 1]\n",
    "        extra_dist1 = pts1[:, 1]\n",
    "    elif y_axis == 'death':    \n",
    "        extra_dist0 = (pts0[:, 1]-pts0[:, 0])/np.sqrt(2)\n",
    "        extra_dist1 = (pts1[:, 1]-pts1[:, 0])/np.sqrt(2)\n",
    "    else:\n",
    "        raise ValueError('y_axis must be \\'death\\' or \\'lifetime\\'')\n",
    "        \n",
    "    pairwise_dist = sklearn.metrics.pairwise_distances(pts0, pts1, metric='chebyshev')\n",
    "    \n",
    "    all_pairs_ground_distance_a = np.hstack([pairwise_dist, extra_dist0[:, np.newaxis]])\n",
    "    extra_row = np.zeros(all_pairs_ground_distance_a.shape[1])\n",
    "    extra_row[:pairwise_dist.shape[1]] = extra_dist1\n",
    "    all_pairs_ground_distance_a = np.vstack([all_pairs_ground_distance_a, extra_row])\n",
    "  \n",
    "    all_pairs_ground_distance_ap = np.power(all_pairs_ground_distance_a,p)\n",
    "    \n",
    "    n0 = pts0.shape[0]\n",
    "    n1 = pts1.shape[0]\n",
    "    a = np.ones(n0+1)\n",
    "    a[n0]=n1\n",
    "    a = a/a.sum()\n",
    "    b = np.ones(n1+1)\n",
    "    b[n1]=n0\n",
    "    b = b/b.sum()\n",
    "    \n",
    "    T=ot.emd(a, b, all_pairs_ground_distance_ap)\n",
    "    \n",
    "    return (n0+n1)*np.max([np.max(np.sum(T[:-1,:]*all_pairs_ground_distance_a[:-1,:],axis=1)),\n",
    "                            np.max(np.sum(T[:,:-1]*all_pairs_ground_distance_a[:,:-1],axis=0))])\n",
    "\n"
   ]
  },
  {
   "cell_type": "markdown",
   "metadata": {},
   "source": [
    "## Now lets see how this converges as we vary p \n"
   ]
  },
  {
   "cell_type": "code",
   "execution_count": 7,
   "metadata": {},
   "outputs": [],
   "source": [
    "def allP(n,p):\n",
    "    bott_all_pairs_dist = np.zeros((n,n))\n",
    "    for i in range(n):\n",
    "        for j in range(i,n):\n",
    "            bott_all_pairs_dist[i,j] = bottleneck_diagram_distance(p, \n",
    "                                                JustDgms_death[i], JustDgms_death[j], y_axis='death')\n",
    "            bott_all_pairs_dist[j,i] = bott_all_pairs_dist[i,j]\n",
    "    return bott_all_pairs_dist\n",
    "\n"
   ]
  },
  {
   "cell_type": "code",
   "execution_count": 16,
   "metadata": {},
   "outputs": [
    {
     "name": "stdout",
     "output_type": "stream",
     "text": [
      "CPU times: user 5min 21s, sys: 1.7 s, total: 5min 22s\n",
      "Wall time: 5min 23s\n"
     ]
    }
   ],
   "source": [
    "%%time\n",
    "b=[allP(180,i) for i in range(1,20)]"
   ]
  },
  {
   "cell_type": "code",
   "execution_count": 17,
   "metadata": {},
   "outputs": [
    {
     "data": {
      "text/plain": [
       "[-0.218944013118744,\n",
       " -0.12068563699722856,\n",
       " -0.10629329827326195,\n",
       " -0.10629329827326195,\n",
       " -0.0731831196676862,\n",
       " -0.029865720470156232,\n",
       " -0.04857542302055895,\n",
       " -0.05577355836384701,\n",
       " -0.04126838174736036,\n",
       " -0.030069558905940652,\n",
       " -0.03743430404542425,\n",
       " -0.026462428271770477,\n",
       " -0.02610932290554016,\n",
       " -0.06569533050060225,\n",
       " -0.07910273969173434,\n",
       " -0.06042257696390152,\n",
       " -0.11070293188095093,\n",
       " -0.082641676068306]"
      ]
     },
     "execution_count": 17,
     "metadata": {},
     "output_type": "execute_result"
    }
   ],
   "source": [
    "[np.min(b[i+1]-b[i]) for i in range(0,18)]"
   ]
  },
  {
   "cell_type": "code",
   "execution_count": 18,
   "metadata": {},
   "outputs": [
    {
     "data": {
      "text/plain": [
       "[0.039795751986053784,\n",
       " 0.013971745967861549,\n",
       " 0.02799259124559783,\n",
       " 0.001862168312072754,\n",
       " 0.00010000169277191336,\n",
       " 0.006368778645992281,\n",
       " 0.01115706562995911,\n",
       " 0.02517920732498169,\n",
       " 0.035367563366889954,\n",
       " 0.05232001841068257,\n",
       " 0.06030437350273134,\n",
       " 0.07400456070899983,\n",
       " 0.08038553595542905,\n",
       " 0.09151804447174089,\n",
       " 0.1251210868358606,\n",
       " 0.1353657320141792,\n",
       " 0.15817624330520588,\n",
       " 0.20555180311203006]"
      ]
     },
     "execution_count": 18,
     "metadata": {},
     "output_type": "execute_result"
    }
   ],
   "source": [
    "[np.max(b[i+1]-b[i]) for i in range(0,18)]"
   ]
  },
  {
   "cell_type": "code",
   "execution_count": 19,
   "metadata": {},
   "outputs": [
    {
     "data": {
      "text/plain": [
       "[-0.00783353960211826,\n",
       " -0.000804872932239556,\n",
       " -0.0002584156440280042,\n",
       " -0.00011767282682853872,\n",
       " -9.995642654779577e-05,\n",
       " -1.861798903010159e-05,\n",
       " 5.171477596679754e-05,\n",
       " 0.000331783872959272,\n",
       " 0.0010364353571947415,\n",
       " 0.0019747717956783545,\n",
       " 0.0027850399078617845,\n",
       " 0.003604564659027123,\n",
       " 0.004625878979598216,\n",
       " 0.004768521178867411,\n",
       " 0.005073627228826866,\n",
       " 0.005163460898828659,\n",
       " 0.005393664313846954,\n",
       " 0.00528265475136577]"
      ]
     },
     "execution_count": 19,
     "metadata": {},
     "output_type": "execute_result"
    }
   ],
   "source": [
    "[np.mean(b[i+1]-b[i]) for i in range(0,18)]"
   ]
  },
  {
   "cell_type": "markdown",
   "metadata": {},
   "source": [
    "After about p=7 it seems that numerical precision starts to be an issue since it appears to stop converging around then.  \n",
    "\n",
    "#### Let's see how it compares to Hera to see if it's converging to the right thing. "
   ]
  },
  {
   "cell_type": "code",
   "execution_count": 20,
   "metadata": {},
   "outputs": [
    {
     "ename": "ValueError",
     "evalue": "could not convert string to float: '/bin/sh: bottleneck_dist: command not found'",
     "output_type": "error",
     "traceback": [
      "\u001b[0;31m---------------------------------------------------------------------------\u001b[0m",
      "\u001b[0;31mValueError\u001b[0m                                Traceback (most recent call last)",
      "\u001b[0;32m<ipython-input-20-8813c703bf94>\u001b[0m in \u001b[0;36m<module>\u001b[0;34m\u001b[0m\n\u001b[0;32m----> 1\u001b[0;31m \u001b[0mdgmDist_Hera\u001b[0m\u001b[0;34m(\u001b[0m\u001b[0mJustDgms_death\u001b[0m\u001b[0;34m[\u001b[0m\u001b[0;36m1\u001b[0m\u001b[0;34m]\u001b[0m\u001b[0;34m,\u001b[0m\u001b[0mJustDgms_death\u001b[0m\u001b[0;34m[\u001b[0m\u001b[0;36m2\u001b[0m\u001b[0;34m]\u001b[0m\u001b[0;34m)\u001b[0m\u001b[0;34m\u001b[0m\u001b[0;34m\u001b[0m\u001b[0m\n\u001b[0m",
      "\u001b[0;32m/opt/anaconda3/lib/python3.7/site-packages/teaspoon/TDA/Distance.py\u001b[0m in \u001b[0;36mdgmDist_Hera\u001b[0;34m(D1, D2, wassDeg, relError, internal_p)\u001b[0m\n\u001b[1;32m    154\u001b[0m     \u001b[0mout\u001b[0m \u001b[0;34m=\u001b[0m \u001b[0mout\u001b[0m\u001b[0;34m.\u001b[0m\u001b[0mdecode\u001b[0m\u001b[0;34m(\u001b[0m\u001b[0;34m)\u001b[0m\u001b[0;34m.\u001b[0m\u001b[0msplit\u001b[0m\u001b[0;34m(\u001b[0m\u001b[0;34m'\\n'\u001b[0m\u001b[0;34m)\u001b[0m\u001b[0;34m\u001b[0m\u001b[0;34m\u001b[0m\u001b[0m\n\u001b[1;32m    155\u001b[0m     \u001b[0mdistance\u001b[0m \u001b[0;34m=\u001b[0m \u001b[0mout\u001b[0m\u001b[0;34m[\u001b[0m\u001b[0;34m-\u001b[0m\u001b[0;36m2\u001b[0m\u001b[0;34m]\u001b[0m\u001b[0;34m\u001b[0m\u001b[0;34m\u001b[0m\u001b[0m\n\u001b[0;32m--> 156\u001b[0;31m     \u001b[0mdistance\u001b[0m \u001b[0;34m=\u001b[0m \u001b[0mfloat\u001b[0m\u001b[0;34m(\u001b[0m\u001b[0mdistance\u001b[0m\u001b[0;34m)\u001b[0m\u001b[0;34m\u001b[0m\u001b[0;34m\u001b[0m\u001b[0m\n\u001b[0m\u001b[1;32m    157\u001b[0m \u001b[0;34m\u001b[0m\u001b[0m\n\u001b[1;32m    158\u001b[0m \u001b[0;34m\u001b[0m\u001b[0m\n",
      "\u001b[0;31mValueError\u001b[0m: could not convert string to float: '/bin/sh: bottleneck_dist: command not found'"
     ]
    }
   ],
   "source": [
    "dgmDist_Hera(JustDgms_death[1],JustDgms_death[2])"
   ]
  },
  {
   "cell_type": "markdown",
   "metadata": {},
   "source": [
    "##### I'm not sure how to fix my call to Hera "
   ]
  },
  {
   "cell_type": "code",
   "execution_count": null,
   "metadata": {},
   "outputs": [],
   "source": []
  }
 ],
 "metadata": {
  "kernelspec": {
   "display_name": "Python 3",
   "language": "python",
   "name": "python3"
  },
  "language_info": {
   "codemirror_mode": {
    "name": "ipython",
    "version": 3
   },
   "file_extension": ".py",
   "mimetype": "text/x-python",
   "name": "python",
   "nbconvert_exporter": "python",
   "pygments_lexer": "ipython3",
   "version": "3.7.4"
  }
 },
 "nbformat": 4,
 "nbformat_minor": 4
}
